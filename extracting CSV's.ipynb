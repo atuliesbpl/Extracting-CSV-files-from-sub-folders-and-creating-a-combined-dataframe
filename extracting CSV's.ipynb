{
 "cells": [
  {
   "cell_type": "code",
   "execution_count": null,
   "id": "857f029a",
   "metadata": {},
   "outputs": [],
   "source": [
    "path = 'C:\\\\Users\\\\abc\\\\Downloads\\\\folder_name'\n",
    "files = [val for path in [[os.path.join(i[0], j) for j in i[2]] for i in os.walk('./')] for val in path]\n",
    "dfs = [pd.read_csv(file) for file in files]\n",
    "final_df = pd.concat(dfs)"
   ]
  },
  {
   "cell_type": "code",
   "execution_count": null,
   "id": "c542bb26",
   "metadata": {},
   "outputs": [],
   "source": []
  }
 ],
 "metadata": {
  "kernelspec": {
   "display_name": "Python 3 (ipykernel)",
   "language": "python",
   "name": "python3"
  }
 },
 "nbformat": 4,
 "nbformat_minor": 5
}
